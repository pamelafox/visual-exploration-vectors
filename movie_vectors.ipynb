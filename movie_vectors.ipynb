{
 "cells": [
  {
   "cell_type": "markdown",
   "metadata": {},
   "source": [
    "# Multi-word vector embeddings\n",
    "\n",
    "Some models can generate embeddings for multi-word phrases:\n",
    "\n",
    "* Sentence-BERT\n",
    "* OpenAI: ada-002, text-embedding-3\n",
    "\n",
    "https://huggingface.co/spaces/mteb/leaderboard"
   ]
  },
  {
   "cell_type": "code",
   "execution_count": null,
   "metadata": {},
   "outputs": [],
   "source": [
    "# Load in the vectors from movies.json, {movie: [vector]}\n",
    "import json\n",
    "import numpy as np\n",
    "\n",
    "with open('openai_movies.json') as f:\n",
    "    movies = json.load(f)"
   ]
  },
  {
   "cell_type": "code",
   "execution_count": null,
   "metadata": {},
   "outputs": [],
   "source": [
    "import matplotlib.pyplot as plt\n",
    "import numpy as np\n",
    "\n",
    "movie = movies['Un indien dans la ville']\n",
    "plt.plot(movie)\n",
    "plt.show()"
   ]
  },
  {
   "cell_type": "code",
   "execution_count": null,
   "metadata": {},
   "outputs": [],
   "source": [
    "import matplotlib.pyplot as plt\n",
    "\n",
    "movie = movies['Frozen']\n",
    "\n",
    "data = np.array(movie).reshape(1, -1)\n",
    "\n",
    "# Create a figure and a set of subplots\n",
    "fig, ax = plt.subplots(figsize=(25, 1))\n",
    "\n",
    "# Display the data as an image, assuming most values between -0.1 and 0.1\n",
    "cax = ax.imshow(data, cmap='coolwarm', aspect='auto', vmin=-0.1, vmax=0.1)\n",
    "\n",
    "# Add color bar\n",
    "cbar = fig.colorbar(cax, orientation='vertical')\n",
    "\n",
    "# Set ticks\n",
    "ax.set_xticks([])\n",
    "ax.set_yticks([])\n",
    "\n",
    "plt.show()"
   ]
  },
  {
   "cell_type": "code",
   "execution_count": null,
   "metadata": {},
   "outputs": [],
   "source": [
    "# Now compare the vectors for two movies with similar plots: Frozen and Moana\n",
    "\n",
    "movie_names = ['Frozen',  'Moana', 'Pearl Harbor']\n",
    "\n",
    "data = np.array([movies[movie_name] for movie_name in movie_names])\n",
    "\n",
    "fig, ax = plt.subplots(figsize=(25, 5))\n",
    "\n",
    "cax = ax.imshow(data, cmap='coolwarm', aspect='auto', vmin=-0.05, vmax=0.05)\n",
    "\n",
    "# Put lines between the movies\n",
    "for i in range(1, len(movie_names)):\n",
    "    ax.axhline(i - 0.5, color='white', lw=1)\n",
    "\n",
    "# Add color bar\n",
    "cbar = fig.colorbar(cax, orientation='vertical')\n",
    "\n",
    "# Set ticks\n",
    "ax.set_xticks([])\n",
    "ax.set_yticks([])\n",
    "ax.set_yticks(range(len(movie_names)))\n",
    "ax.set_yticklabels(movie_names)"
   ]
  },
  {
   "cell_type": "code",
   "execution_count": null,
   "metadata": {},
   "outputs": [],
   "source": [
    "# Are they unit vectors?\n",
    "print(np.linalg.norm(movies['Frozen']))\n",
    "print(np.linalg.norm(movies['Moana']))\n",
    "print(np.linalg.norm(movies['Pearl Harbor']))"
   ]
  },
  {
   "cell_type": "code",
   "execution_count": null,
   "metadata": {},
   "outputs": [],
   "source": [
    "# find the 10 most similar movies to Frozen\n",
    "import numpy as np\n",
    "import pandas as pd\n",
    "from sklearn.metrics.pairwise import cosine_similarity\n",
    "\n",
    "frozen = movies['The Little Mermaid']\n",
    "frozen = np.array(frozen).reshape(1, -1)\n",
    "\n",
    "# Calculate the cosine similarity between all other movies\n",
    "similarities = cosine_similarity(frozen, np.array(list(movies.values())))\n",
    "\n",
    "most_similar = np.argsort(similarities)[0][-11:-1].tolist()\n",
    "similar_movies = [(list(movies.keys())[i], round(similarities[0, i], 3)) for i in most_similar]\n",
    "\n",
    "pd.DataFrame(similar_movies[::-1], columns=['movie', 'similarity'])\n"
   ]
  },
  {
   "cell_type": "code",
   "execution_count": null,
   "metadata": {},
   "outputs": [],
   "source": [
    "# Display the 10 least similar movies\n",
    "most_similar = np.argsort(similarities)[0][:10].tolist()\n",
    "similar_movies = [(list(movies.keys())[i], round(similarities[0, i], 3)) for i in most_similar]\n",
    "\n",
    "pd.DataFrame(similar_movies, columns=['movie', 'similarity'])"
   ]
  },
  {
   "cell_type": "code",
   "execution_count": null,
   "metadata": {},
   "outputs": [],
   "source": [
    "# find the two least related movies to each other in the entire dataset\n",
    "\n",
    "# Calculate the cosine similarity between all movies\n",
    "similarities = cosine_similarity(np.array(list(movies.values())))\n",
    "np.fill_diagonal(similarities, 1)\n",
    "\n",
    "# Find the pair of movies with the lowest similarity\n",
    "least_similar = np.unravel_index(np.argmin(similarities), similarities.shape)\n",
    "movie_keys = list(movies.keys())\n",
    "movie_keys[least_similar[0]], movie_keys[least_similar[1]], similarities[least_similar]\n"
   ]
  },
  {
   "cell_type": "code",
   "execution_count": null,
   "metadata": {},
   "outputs": [],
   "source": [
    "# Find the pair of movies with the highest similarity BUT DO NOT INCLUDE THE SAME MOVIE\n",
    "np.fill_diagonal(similarities, 0)\n",
    "most_similar = np.unravel_index(np.argmax(similarities), similarities.shape)\n",
    "movie_keys[most_similar[0]], movie_keys[most_similar[1]], similarities[most_similar]\n"
   ]
  }
 ],
 "metadata": {
  "language_info": {
   "name": "python"
  }
 },
 "nbformat": 4,
 "nbformat_minor": 2
}
