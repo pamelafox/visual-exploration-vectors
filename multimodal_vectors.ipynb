{
 "cells": [
  {
   "cell_type": "markdown",
   "metadata": {},
   "source": [
    "# Image vectors\n",
    "\n",
    "These vectors are from a multi-modal embedding model that can represent either text or images in a 1024-dimensional space.\n"
   ]
  },
  {
   "cell_type": "code",
   "execution_count": null,
   "metadata": {},
   "outputs": [],
   "source": [
    "import json\n",
    "\n",
    "with open('vectors_multimodal_images.json') as f:\n",
    "    image_vectors = json.load(f)\n",
    "\n",
    "with open('vectors_multimodal_words.json') as f:\n",
    "    word_vectors = json.load(f)\n",
    "    "
   ]
  },
  {
   "cell_type": "code",
   "execution_count": null,
   "metadata": {},
   "outputs": [],
   "source": [
    "import random\n",
    "\n",
    "import matplotlib.pyplot as plt\n",
    "\n",
    "random_image_name = random.choice(list(image_vectors.keys()))\n",
    "vector = image_vectors[random_image_name]\n",
    "\n",
    "plt.bar(range(len(vector)), vector)\n",
    "plt.xlabel('Dimension')\n",
    "plt.ylabel('Value')\n",
    "plt.show()"
   ]
  },
  {
   "cell_type": "code",
   "execution_count": null,
   "metadata": {},
   "outputs": [],
   "source": [
    "# Is it a unit vector?\n",
    "import numpy as np\n",
    "\n",
    "np.linalg.norm(vector)"
   ]
  },
  {
   "cell_type": "code",
   "execution_count": null,
   "metadata": {},
   "outputs": [],
   "source": [
    "import pandas as pd\n",
    "\n",
    "def cosine_similarity(v1, v2):\n",
    "    \"\"\"Compute the cosine similarity between two vectors\"\"\"\n",
    "    dot_product = sum([a * b for a, b in zip(v1, v2)])\n",
    "    magnitude = (sum([a**2 for a in v1]) * sum([a**2 for a in v2])) ** 0.5\n",
    "    return dot_product / magnitude\n",
    "\n",
    "def most_similar(target_vector: str, vectors: dict) -> list[list]:\n",
    "    \"\"\"Return the 10 most similar images and similarities to the given images\"\"\"\n",
    "    similarities = {w: cosine_similarity(target_vector, vector) for w, vector in vectors.items()}\n",
    "    most_similar = sorted(similarities, key=similarities.get, reverse=True)\n",
    "    return pd.DataFrame([(vector_key, similarities[vector_key]) for vector_key in most_similar], columns=['vector key', 'similarity'])\n",
    "\n",
    "most_similar(image_vectors[\"inhaleexhale_top.jpg\"], image_vectors)"
   ]
  },
  {
   "cell_type": "code",
   "execution_count": null,
   "metadata": {},
   "outputs": [],
   "source": [
    "# Now render each of those images\n",
    "most_similar_df = most_similar(image_vectors[\"inhaleexhale_top.jpg\"], image_vectors)\n",
    "\n",
    "# loop through image_name column\n",
    "for image_name in most_similar_df['vector key']:\n",
    "    plt.imshow(plt.imread(f'product_images/{image_name}'))\n",
    "    plt.axis('off')\n",
    "    plt.show()"
   ]
  },
  {
   "cell_type": "code",
   "execution_count": null,
   "metadata": {},
   "outputs": [],
   "source": [
    "# Now look for most similar to a word\n",
    "most_similar_df = most_similar(word_vectors[\"crown\"], image_vectors)\n",
    "\n",
    "for image_name in most_similar_df['vector key'][0:10]:\n",
    "    plt.imshow(plt.imread(f'product_images/{image_name}'))\n",
    "    plt.axis('off')\n",
    "    plt.show()"
   ]
  },
  {
   "cell_type": "markdown",
   "metadata": {},
   "source": [
    "## Resources\n",
    "\n",
    "* [Portlandia - She's making jewelry now](https://www.youtube.com/watch?v=Kg6H0Cd1_Jc)"
   ]
  }
 ],
 "metadata": {
  "language_info": {
   "name": "python"
  }
 },
 "nbformat": 4,
 "nbformat_minor": 2
}
