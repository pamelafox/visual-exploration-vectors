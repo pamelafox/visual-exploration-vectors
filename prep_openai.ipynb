{
 "cells": [
  {
   "cell_type": "markdown",
   "metadata": {},
   "source": [
    "# Prep OpenAI embeddings\n",
    "\n",
    "This notebook uses OpenAI models to generate embeddings for a set of common English words. "
   ]
  },
  {
   "cell_type": "code",
   "execution_count": 1,
   "metadata": {},
   "outputs": [],
   "source": [
    "import csv\n",
    "import json\n",
    "import os\n",
    "\n",
    "from azure.identity import DefaultAzureCredential, get_bearer_token_provider\n",
    "import openai\n",
    "import dotenv\n",
    "\n",
    "\n",
    "dotenv.load_dotenv()\n",
    "\n",
    "# Set up OpenAI client\n",
    "AZURE_OPENAI_SERVICE = os.getenv(\"AZURE_OPENAI_SERVICE\")\n",
    "AZURE_OPENAI_EMBEDDING_DEPLOYMENT = os.getenv(\"AZURE_OPENAI_EMBEDDING_DEPLOYMENT\")\n",
    "AZURE_OPENAI_EMBEDDING_DIMENSIONS = os.getenv(\"AZURE_OPENAI_EMBEDDING_DIMENSIONS\") \n",
    "azure_credential = DefaultAzureCredential()\n",
    "token_provider = get_bearer_token_provider(azure_credential, \"https://cognitiveservices.azure.com/.default\")\n",
    "openai_client = openai.AzureOpenAI(\n",
    "    api_version=\"2023-07-01-preview\",\n",
    "    azure_endpoint=f\"https://{AZURE_OPENAI_SERVICE}.openai.azure.com\",\n",
    "    azure_ad_token_provider=token_provider,\n",
    ")\n",
    "\n",
    "def get_embeddings(words):\n",
    "    \"\"\"Calculate embeddings using OpenAI in a batch (all words at once)\"\"\"\n",
    "    word_vectors = {}\n",
    "    dimensions_args = (\n",
    "        {\"dimensions\": int(AZURE_OPENAI_EMBEDDING_DIMENSIONS)}\n",
    "        if AZURE_OPENAI_EMBEDDING_DIMENSIONS\n",
    "        else {}\n",
    "    )\n",
    "\n",
    "    embeddings_response = openai_client.embeddings.create(\n",
    "        model=AZURE_OPENAI_EMBEDDING_DEPLOYMENT,\n",
    "        input=words,\n",
    "        **dimensions_args\n",
    "    )\n",
    "    for word, embedding_object in zip(words, embeddings_response.data):\n",
    "        word_vectors[word] = embedding_object.embedding\n",
    "    return word_vectors"
   ]
  },
  {
   "cell_type": "code",
   "execution_count": 2,
   "metadata": {},
   "outputs": [
    {
     "data": {
      "application/vnd.jupyter.widget-view+json": {
       "model_id": "3708fa007d0f4dfd9bc507791d168c89",
       "version_major": 2,
       "version_minor": 0
      },
      "text/plain": [
       "Computing new embeddings:   0%|          | 0/573 [00:00<?, ?it/s]"
      ]
     },
     "metadata": {},
     "output_type": "display_data"
    }
   ],
   "source": [
    "# Open openai_movies.json, which is a dict of movie titles to movie embeddings\n",
    "# And compute new embeddings\n",
    "from tqdm.notebook import tqdm\n",
    "\n",
    "new_movie_vectors = {}\n",
    "with open(\"openai_movies.json\") as f:\n",
    "    disney_vectors = json.load(f)\n",
    "    for movie, embedding in tqdm(disney_vectors.items(), desc=\"Computing new embeddings\"):\n",
    "        new_movie_vectors[movie] = get_embeddings([movie])[movie]\n",
    "# Write new embeddings to openai_movies\n",
    "filename = f\"openai_movies_{AZURE_OPENAI_EMBEDDING_DEPLOYMENT}{AZURE_OPENAI_EMBEDDING_DIMENSIONS}.json\"\n",
    "with open(filename, \"w\") as f:\n",
    "    json.dump(new_movie_vectors, f, indent=4)"
   ]
  },
  {
   "cell_type": "code",
   "execution_count": 3,
   "metadata": {},
   "outputs": [],
   "source": [
    "# Open most-common-nouns-english.csv and read the first column as words\n",
    "words = []\n",
    "with open('most-common-nouns-english.csv') as f:\n",
    "    reader = csv.reader(f)\n",
    "    next(reader)\n",
    "    for row in reader:\n",
    "        words.append(row[0])\n",
    "\n",
    "# Calculate embeddings for all words\n",
    "word_vectors = get_embeddings(words)\n",
    "\n",
    "# Save embeddings to a file\n",
    "with open('vectors_openai_ada.json', 'w') as f:\n",
    "    json.dump(word_vectors, f)"
   ]
  }
 ],
 "metadata": {
  "language_info": {
   "name": "python"
  }
 },
 "nbformat": 4,
 "nbformat_minor": 2
}
