{
 "cells": [
  {
   "cell_type": "markdown",
   "metadata": {},
   "source": [
    "# Vector distance metrics\n",
    "\n",
    "Four common distance metrics between two vectors are:\n",
    "\n",
    "1. Euclidean distance\n",
    "2. Manhattan distance\n",
    "3. Inner product\n",
    "3. Cosine distance"
   ]
  },
  {
   "cell_type": "markdown",
   "metadata": {},
   "source": [
    "## Vectors vs. unit vectors\n",
    "\n",
    "The measurement that we pick may depend on whether we are comparing vectors or unit vectors.\n",
    "\n",
    "A unit vector is a vector with a **magnitude** of 1."
   ]
  },
  {
   "cell_type": "code",
   "execution_count": null,
   "metadata": {},
   "outputs": [],
   "source": [
    "import numpy as np\n",
    "\n",
    "vector1 = np.array([1, 2, 3])\n",
    "vector2 = np.array([3, 1, 2])\n",
    "\n",
    "# Magnitude of vectors\n",
    "print(np.linalg.norm(vector1))\n",
    "print(np.linalg.norm(vector2))"
   ]
  },
  {
   "cell_type": "code",
   "execution_count": null,
   "metadata": {},
   "outputs": [],
   "source": [
    "# graph the two vectors on a 3D plot\n",
    "import matplotlib.pyplot as plt\n",
    "from mpl_toolkits.mplot3d import Axes3D\n",
    "\n",
    "fig = plt.figure()\n",
    "ax = fig.add_subplot(111, projection='3d')\n",
    "ax.quiver(0, 0, 0, vector1[0], vector1[1], vector1[2], color='b', arrow_length_ratio=0.1)\n",
    "ax.quiver(0, 0, 0, vector2[0], vector2[1], vector2[2], color='r', arrow_length_ratio=0.1)\n",
    "\n",
    "ax.set_xlim([0, 4])\n",
    "ax.set_ylim([0, 4])\n",
    "ax.set_zlim([0, 4])\n",
    "\n",
    "plt.show()"
   ]
  },
  {
   "cell_type": "code",
   "execution_count": null,
   "metadata": {},
   "outputs": [],
   "source": [
    "# Normalize the vectors\n",
    "v1_unit = vector1 / np.linalg.norm(vector1)\n",
    "v2_unit = vector2 / np.linalg.norm(vector2)\n",
    "print(v1_unit)\n",
    "print(v2_unit)\n",
    "\n",
    "mag_v1_unit = np.linalg.norm(v1_unit)\n",
    "mag_v2_unit = np.linalg.norm(v2_unit)\n",
    "print(mag_v1_unit)\n",
    "print(mag_v2_unit)"
   ]
  },
  {
   "cell_type": "code",
   "execution_count": null,
   "metadata": {},
   "outputs": [],
   "source": [
    "# Graph the two normalized vectors on a 3D plot\n",
    "fig = plt.figure()\n",
    "ax = fig.add_subplot(111, projection='3d')\n",
    "ax.quiver(0, 0, 0, v1_unit[0], v1_unit[1], v1_unit[2], color='b', arrow_length_ratio=0.1)\n",
    "ax.quiver(0, 0, 0, v2_unit[0], v2_unit[1], v2_unit[2], color='r', arrow_length_ratio=0.1)\n",
    "\n",
    "ax.set_xlim([0, 1])\n",
    "ax.set_ylim([0, 1])\n",
    "ax.set_zlim([0, 1])\n",
    "\n",
    "plt.show()"
   ]
  },
  {
   "cell_type": "markdown",
   "metadata": {},
   "source": [
    "## Euclidean distance\n",
    "\n",
    "The Euclidean distance between two vectors $\\bold{x}$ and $\\bold{y}$ is defined as:\n",
    "\n",
    "$$\n",
    "\\text{Euclidean distance} = \\sqrt{\\sum_{i=1}^{n} (x_i - y_i)^2}\n",
    "$$\n",
    "\n",
    "It is the straight-line distance between two points in Euclidean space."
   ]
  },
  {
   "cell_type": "code",
   "execution_count": null,
   "metadata": {},
   "outputs": [],
   "source": [
    "import matplotlib.pyplot as plt\n",
    "import numpy as np\n",
    "from mpl_toolkits.mplot3d import Axes3D\n",
    "\n",
    "v1 = v1_unit\n",
    "v2 = v2_unit\n",
    "\n",
    "# Compute Euclidean distance\n",
    "distance = np.sqrt(np.sum((v1 - v2)**2)) # or np.linalg.norm(v1 - v2)\n",
    "\n",
    "# Create a new figure with a specific size (width, height)\n",
    "fig = plt.figure(figsize=(6, 6))\n",
    "ax = fig.add_subplot(111, projection='3d')\n",
    "\n",
    "# Plot the vectors\n",
    "ax.quiver(0, 0, 0, v1[0], v1[1], v1[2], color='b', linestyle=\"dashed\", arrow_length_ratio=0.1)\n",
    "ax.quiver(0, 0, 0, v2[0], v2[1], v2[2], color='r', linestyle=\"dashed\", arrow_length_ratio=0.1)\n",
    "\n",
    "# Draw a line between the vectors\n",
    "ax.plot([v1[0], v2[0]], [v1[1], v2[1]], [v1[2], v2[2]], 'g', linewidth=3)\n",
    "\n",
    "# Add labels for the vectors\n",
    "ax.text(v1[0], v1[1], v1[2], 'v1', fontsize=12, ha='right')\n",
    "ax.text(v2[0], v2[1], v2[2], 'v2', fontsize=12, ha='right')\n",
    "\n",
    "ax.set_xlim([0, 1])\n",
    "ax.set_ylim([0, 1])\n",
    "ax.set_zlim([0, 1])\n",
    "\n",
    "plt.title(f'Euclidean Distance: {distance:.3f}')\n",
    "plt.show()"
   ]
  },
  {
   "cell_type": "markdown",
   "metadata": {},
   "source": [
    "## Manhattan distance\n",
    "\n",
    "The Manhattan distance between two vectors $\\bold{x}$ and $\\bold{y}$ is defined as:\n",
    "\n",
    "$$\n",
    "\\text{Manhattan distance} = \\sum_{i=1}^{n} |x_i - y_i|\n",
    "$$\n",
    "\n",
    "It is the \"taxicab\" distance between two points in Euclidean space."
   ]
  },
  {
   "cell_type": "code",
   "execution_count": null,
   "metadata": {},
   "outputs": [],
   "source": [
    "import matplotlib.pyplot as plt\n",
    "import numpy as np\n",
    "from mpl_toolkits.mplot3d import Axes3D\n",
    "\n",
    "# Define two vectors\n",
    "v1 = v1_unit\n",
    "v2 = v2_unit\n",
    "\n",
    "# Compute Manhattan distance\n",
    "distance = np.sum(np.abs(v1 - v2))\n",
    "\n",
    "# Create a new figure with a specific size (width, height)\n",
    "fig = plt.figure(figsize=(6, 6))\n",
    "ax = fig.add_subplot(111, projection='3d')\n",
    "\n",
    "# Plot the vectors\n",
    "ax.quiver(0, 0, 0, v1[0], v1[1], v1[2], color='b', linestyle=\"dashed\", arrow_length_ratio=0.1)\n",
    "ax.quiver(0, 0, 0, v2[0], v2[1], v2[2], color='r', linestyle=\"dashed\", arrow_length_ratio=0.1)\n",
    "\n",
    "# Draw lines to represent the Manhattan distance\n",
    "ax.plot([v1[0], v2[0]], [v1[1], v1[1]], [v1[2], v1[2]], 'g', linewidth=3)\n",
    "ax.plot([v2[0], v2[0]], [v1[1], v2[1]], [v1[2], v1[2]], 'g', linewidth=3)\n",
    "ax.plot([v2[0], v2[0]], [v2[1], v2[1]], [v1[2], v2[2]], 'g', linewidth=3)\n",
    "\n",
    "# Add labels for the vectors\n",
    "ax.text(v1[0], v1[1], v1[2], 'v1', fontsize=12, ha='right')\n",
    "ax.text(v2[0], v2[1], v2[2], 'v2', fontsize=12, ha='right')\n",
    "\n",
    "ax.set_xlim([0, 1])\n",
    "ax.set_ylim([0, 1])\n",
    "ax.set_zlim([0, 1])\n",
    "\n",
    "plt.title(f'Manhattan Distance: {distance:.2f}')\n",
    "plt.show()"
   ]
  },
  {
   "cell_type": "markdown",
   "metadata": {},
   "source": [
    "## Dot product\n",
    "\n",
    "The dot product between two vectors $\\bold{x}$ and $\\bold{y}$ is defined as:\n",
    "\n",
    "$$\n",
    "\\text{Dot product} =  \\bold{x} \\cdot \\bold{y} = x_1 y_1 + ... + x_n y_n = \\sum_{i=1}^{n} x_i y_i\n",
    "$$"
   ]
  },
  {
   "cell_type": "code",
   "execution_count": null,
   "metadata": {},
   "outputs": [],
   "source": [
    "def dot_distance(v1, v2):\n",
    "    return np.sum(v1 * v2)\n",
    "\n",
    "dot_distance(v1_unit, v2_unit) # or np.dot(v1, v2)"
   ]
  },
  {
   "cell_type": "code",
   "execution_count": null,
   "metadata": {},
   "outputs": [],
   "source": [
    "import matplotlib.pyplot as plt\n",
    "import numpy as np\n",
    "\n",
    "def visualize_component_mult(v1, v2, component):\n",
    "\n",
    "    # Create a new figure with a specific size (width, height)\n",
    "    fig = plt.figure(figsize=(6, 6))\n",
    "\n",
    "    # Plot the component of each vector\n",
    "    plt.plot([0.00, v1[component]], [0.01, 0.01], 'b', label='v1')\n",
    "    plt.plot(v1[component], 0.01, 'bo')\n",
    "    plt.plot([0, v2[component]], [0.0, 0.0], 'r', label='v2')\n",
    "    plt.plot(v2[component], 0, 'ro')\n",
    "\n",
    "    # Visualize the multiplication of the components\n",
    "    mult = v1[component] * v2[component]\n",
    "    plt.plot([0.0, mult], [-0.01, -0.01], 'g', label='v1 * v2')\n",
    "    plt.plot(mult, -0.01, 'go')\n",
    "    # label the multiplication result\n",
    "    plt.text(mult, -0.009, f'{mult:.2f}', ha='right')\n",
    "\n",
    "    # Show the plot\n",
    "    plt.legend()\n",
    "    plt.grid()\n",
    "    plt.ylim(-0.015, 0.015)\n",
    "    plt.yticks([])\n",
    "    plt.show()\n",
    "\n",
    "visualize_component_mult(v1_unit, v2_unit, 0)\n",
    "visualize_component_mult(v1_unit, v2_unit, 1)\n",
    "visualize_component_mult(v1_unit, v2_unit, 2)"
   ]
  },
  {
   "cell_type": "markdown",
   "metadata": {},
   "source": [
    "### Geometric formula\n",
    "\n",
    "The dot product can also be calculated using the geometric formula:\n",
    "\n",
    "$$\n",
    "\\text{Dot product} = \\bold{x} \\cdot \\bold{y} = \\|\\bold{x}\\| \\|\\bold{y}\\| \\cos(\\theta)\n",
    "$$\n",
    "\n",
    "where $\\theta$ is the angle between the two vectors."
   ]
  },
  {
   "cell_type": "code",
   "execution_count": null,
   "metadata": {},
   "outputs": [],
   "source": [
    "import math\n",
    "\n",
    "def plot_arc3d(vector1, vector2, radius=0.2, fig=None, colour='C0'):\n",
    "    \"\"\" Plot arc between two given vectors in 3D space.\n",
    "    https://stackoverflow.com/questions/47321839/how-to-show-the-angle-by-an-arc-between-two-3d-vectors-in-matplotlib\n",
    "    \"\"\"\n",
    "\n",
    "    \"\"\" Confirm correct input arguments \"\"\"\n",
    "    assert len(vector1) == 3\n",
    "    assert len(vector2) == 3\n",
    "\n",
    "    \"\"\" Calculate vector between two vector end points, and the resulting spherical angles for various points along \n",
    "        this vector. From this, derive points that lie along the arc between vector1 and vector2 \"\"\"\n",
    "    v = [i-j for i, j in zip(vector1, vector2)]\n",
    "    v_points_direct = [(vector2[0]+v[0]*l, vector2[1]+v[1]*l, vector2[2]+v[2]*l) for l in np.linspace(0, 1)]\n",
    "    v_phis = [math.atan2(v_point[1], v_point[0]) for v_point in v_points_direct]\n",
    "    v_thetas = [math.acos(v_point[2]/np.linalg.norm(v_point)) for v_point in v_points_direct]\n",
    "\n",
    "    v_points_arc = [(radius*math.sin(theta)*math.cos(phi), radius*math.sin(theta)*math.sin(phi), radius*math.cos(theta))\n",
    "                    for theta, phi in zip(v_thetas, v_phis)]\n",
    "    v_points_arc.append((0, 0, 0))\n",
    "\n",
    "    if fig is None:\n",
    "        fig = plt.figure()\n",
    "        ax = fig.add_subplot(111, projection='3d')\n",
    "    else:\n",
    "        ax = fig.gca()\n",
    "\n",
    "    from mpl_toolkits.mplot3d.art3d import Poly3DCollection\n",
    "    \"\"\" Plot polygon (face colour must be set afterwards, otherwise it over-rides the transparency)\n",
    "        https://stackoverflow.com/questions/18897786/transparency-for-poly3dcollection-plot-in-matplotlib \"\"\"\n",
    "    points_collection = Poly3DCollection([v_points_arc], alpha=0.4)\n",
    "    points_collection.set_facecolor(colour)\n",
    "    ax.add_collection3d(points_collection)\n",
    "\n",
    "    return fig"
   ]
  },
  {
   "cell_type": "code",
   "execution_count": null,
   "metadata": {},
   "outputs": [],
   "source": [
    "import matplotlib.pyplot as plt\n",
    "import numpy as np\n",
    "from mpl_toolkits.mplot3d import Axes3D\n",
    "\n",
    "v1 = v1_unit\n",
    "v2 = v2_unit\n",
    "\n",
    "# Create a new figure with a specific size (width, height)\n",
    "fig = plt.figure(figsize=(6, 6))\n",
    "ax = fig.add_subplot(111, projection='3d')\n",
    "\n",
    "# Plot the vectors\n",
    "ax.quiver(0, 0, 0, v1[0], v1[1], v1[2], color='b', linestyle=\"solid\", arrow_length_ratio=0.1)\n",
    "ax.quiver(0, 0, 0, v2[0], v2[1], v2[2], color='r', linestyle=\"solid\", arrow_length_ratio=0.1)\n",
    "plot_arc3d(v1, v2, fig=fig, colour='g')\n",
    "\n",
    "ax.text(v1[0], v1[1], v1[2], 'v1', fontsize=12, ha='right')\n",
    "ax.text(v2[0], v2[1], v2[2], 'v2', fontsize=12, ha='right')\n",
    "\n",
    "ax.set_xlim([0, 1])\n",
    "ax.set_ylim([0, 1])\n",
    "ax.set_zlim([0, 1])\n",
    "\n",
    "plt.title(f'(Geometric) Dot Product: {np.dot(v1, v2):.3f}')\n",
    "plt.show()"
   ]
  },
  {
   "cell_type": "markdown",
   "metadata": {},
   "source": [
    "## Cosine distance\n",
    "\n",
    "The cosine distance between two vectors $\\bold{x}$ and $\\bold{y}$ is defined as:\n",
    "\n",
    "$$\n",
    "\\text{Cosine distance} = (1 - \\text{Cosine similarity}) = 1 - \\frac{\\bold{x} \\cdot \\bold{y}}{\\|\\bold{x}\\| \\|\\bold{y}\\|}\n",
    "$$\n",
    "\n",
    "\n",
    "Cosine distance is the complement of the cosine of the angle between two vectors in Euclidean space.\n"
   ]
  },
  {
   "cell_type": "code",
   "execution_count": null,
   "metadata": {},
   "outputs": [],
   "source": [
    "def cosine_similarity(v1, v2):\n",
    "    return np.dot(v1, v2) / (np.linalg.norm(v1) * np.linalg.norm(v2))\n",
    "\n",
    "def cosine_distance(v1, v2):\n",
    "    return 1 - cosine_similarity(v1, v2)\n",
    "\n",
    "cosine_distance(v1_unit, v2_unit)"
   ]
  },
  {
   "cell_type": "code",
   "execution_count": null,
   "metadata": {},
   "outputs": [],
   "source": [
    "from math import cos, sin\n",
    "\n",
    "\n",
    "def plot_arc3d(vector1, vector2, radius=0.2, fig=None, colour='C0'):\n",
    "    \"\"\" Plot arc between two given vectors in 3D space.\n",
    "    https://stackoverflow.com/questions/47321839/how-to-show-the-angle-by-an-arc-between-two-3d-vectors-in-matplotlib\n",
    "    \"\"\"\n",
    "\n",
    "    \"\"\" Confirm correct input arguments \"\"\"\n",
    "    assert len(vector1) == 3\n",
    "    assert len(vector2) == 3\n",
    "\n",
    "    \"\"\" Calculate vector between two vector end points, and the resulting spherical angles for various points along \n",
    "        this vector. From this, derive points that lie along the arc between vector1 and vector2 \"\"\"\n",
    "    v = [i-j for i, j in zip(vector1, vector2)]\n",
    "    v_points_direct = [(vector2[0]+v[0]*l, vector2[1]+v[1]*l, vector2[2]+v[2]*l) for l in np.linspace(0, 1)]\n",
    "    v_phis = [math.atan2(v_point[1], v_point[0]) for v_point in v_points_direct]\n",
    "    v_thetas = [math.acos(v_point[2]/np.linalg.norm(v_point)) for v_point in v_points_direct]\n",
    "\n",
    "    v_points_arc = [(radius*sin(theta)*cos(phi), radius*sin(theta)*sin(phi), radius*cos(theta))\n",
    "                    for theta, phi in zip(v_thetas, v_phis)]\n",
    "    v_points_arc.append((0, 0, 0))\n",
    "\n",
    "    if fig is None:\n",
    "        fig = plt.figure()\n",
    "        ax = fig.add_subplot(111, projection='3d')\n",
    "    else:\n",
    "        ax = fig.gca()\n",
    "\n",
    "    from mpl_toolkits.mplot3d.art3d import Poly3DCollection\n",
    "    \"\"\" Plot polygon (face colour must be set afterwards, otherwise it over-rides the transparency)\n",
    "        https://stackoverflow.com/questions/18897786/transparency-for-poly3dcollection-plot-in-matplotlib \"\"\"\n",
    "    points_collection = Poly3DCollection([v_points_arc], alpha=0.4)\n",
    "    points_collection.set_facecolor(colour)\n",
    "    ax.add_collection3d(points_collection)\n",
    "\n",
    "    return fig"
   ]
  },
  {
   "cell_type": "code",
   "execution_count": null,
   "metadata": {},
   "outputs": [],
   "source": [
    "import matplotlib.pyplot as plt\n",
    "import numpy as np\n",
    "from mpl_toolkits.mplot3d import Axes3D\n",
    "\n",
    "v1 = v1_unit\n",
    "v2 = v2_unit\n",
    "\n",
    "fig = plt.figure(figsize=(6, 6))\n",
    "ax = fig.add_subplot(111, projection='3d')\n",
    "\n",
    "# Plot the vectors\n",
    "ax.quiver(0, 0, 0, v1[0], v1[1], v1[2], color='b', linestyle=\"solid\", arrow_length_ratio=0.1)\n",
    "ax.quiver(0, 0, 0, v2[0], v2[1], v2[2], color='r', linestyle=\"solid\", arrow_length_ratio=0.1)\n",
    "\n",
    "# Plot a series of points to represent the angle between the 2 vectors\n",
    "plot_arc3d(v1, v2, fig=fig, colour='g')\n",
    "\n",
    "ax.set_xlim([0, 1])\n",
    "ax.set_ylim([0, 1])\n",
    "ax.set_zlim([0, 1])\n",
    "\n",
    "plt.title(f'Cosine distance: {cosine_distance(v1, v2):.3f}')\n",
    "plt.show()"
   ]
  },
  {
   "cell_type": "markdown",
   "metadata": {},
   "source": [
    "## Cosine distance vs. dot product\n",
    "\n",
    "For unit vectors, the cosine similarity is the same as the dot product."
   ]
  },
  {
   "cell_type": "code",
   "execution_count": null,
   "metadata": {},
   "outputs": [],
   "source": [
    "cosine_similarity(v1_unit, v2_unit) == np.dot(v1_unit, v2_unit)"
   ]
  },
  {
   "cell_type": "code",
   "execution_count": null,
   "metadata": {},
   "outputs": [],
   "source": [
    "1 - cosine_distance(v1_unit, v2_unit) == np.dot(v1_unit, v2_unit)"
   ]
  },
  {
   "cell_type": "markdown",
   "metadata": {},
   "source": [
    "## Resources\n",
    "\n",
    "* [Two Forms of the Dot Product](https://gregorygundersen.com/blog/2018/06/26/dot-product/)"
   ]
  }
 ],
 "metadata": {
  "language_info": {
   "name": "python"
  }
 },
 "nbformat": 4,
 "nbformat_minor": 2
}
