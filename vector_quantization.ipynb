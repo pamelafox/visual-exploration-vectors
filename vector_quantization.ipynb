{
 "cells": [
  {
   "cell_type": "markdown",
   "metadata": {},
   "source": [
    "## Vector quantization\n",
    "\n",
    "Most vector embeddings are stored as floating point numbers (64-bit in Python). We can use **quantization** to reduce the size of the embeddings."
   ]
  },
  {
   "cell_type": "code",
   "execution_count": null,
   "metadata": {},
   "outputs": [],
   "source": [
    "# Load in the vectors from movies.json, {movie: [vector]}\n",
    "import json\n",
    "\n",
    "with open('openai_movies.json') as f:\n",
    "    movies = json.load(f)"
   ]
  },
  {
   "cell_type": "code",
   "execution_count": null,
   "metadata": {},
   "outputs": [],
   "source": [
    "# Quantize all the vectors to 1 byte\n",
    "import numpy as np\n",
    "\n",
    "\n",
    "def quantize_vector(vec):\n",
    "    \"\"\"Turn a float64 into a int8\"\"\"\n",
    "    vec = np.array(vec) + 1\n",
    "    vec = np.clip(vec, 0, 2)\n",
    "    vec = vec * 127\n",
    "    vec = vec.astype(np.uint8)\n",
    "    return vec\n",
    "\n",
    "movies_1byte = {k: quantize_vector(v) for k, v in movies.items()}\n",
    "for k, v in list(movies_1byte.items())[:10]:\n",
    "    print(k, v)"
   ]
  },
  {
   "cell_type": "code",
   "execution_count": null,
   "metadata": {},
   "outputs": [],
   "source": [
    "# 10 most similar movies to Moana\n",
    "import pandas as pd\n",
    "from sklearn.metrics.pairwise import cosine_similarity\n",
    "\n",
    "def most_similar(movie, movies):\n",
    "    movie_vec = movies[movie]\n",
    "    similarities = {k: cosine_similarity([movie_vec], [v])[0][0] for k, v in movies.items()}\n",
    "    closest = sorted(similarities.items(), key=lambda x: x[1], reverse=True)\n",
    "    df = pd.DataFrame(closest, columns=['movie', 'similarity'])\n",
    "    return df\n",
    "\n",
    "most_similar('Moana', movies_1byte)[:10]"
   ]
  },
  {
   "cell_type": "code",
   "execution_count": null,
   "metadata": {},
   "outputs": [],
   "source": [
    "most_similar('Moana', movies)[:10]"
   ]
  },
  {
   "cell_type": "markdown",
   "metadata": {},
   "source": [
    "## Binary quantization\n",
    "\n",
    "The most extreme form of quantization is to store the embeddings as binary numbers, setting each dimension to 0 or 1, based on a threshold."
   ]
  },
  {
   "cell_type": "code",
   "execution_count": null,
   "metadata": {},
   "outputs": [],
   "source": [
    "def quantize_vector(vec, threshold):\n",
    "    \"\"\"Turn a float32 into a bit by thresholding at 0\"\"\"\n",
    "    vec = np.array(vec)\n",
    "    vec = (vec > threshold).astype(np.int8)\n",
    "    return vec\n",
    "\n",
    "# calculate the mean of all the dimensions of each vector\n",
    "mean_vec = np.mean(np.mean(list(movies.values()), axis=0))\n",
    "\n",
    "movies_1bit = {k: quantize_vector(v, mean_vec) for k, v in movies.items()}\n",
    "for k, v in list(movies_1bit.items())[:10]:\n",
    "    print(k, v)"
   ]
  },
  {
   "cell_type": "code",
   "execution_count": null,
   "metadata": {},
   "outputs": [],
   "source": [
    "most_similar('Moana', movies_1bit)[:10]"
   ]
  },
  {
   "cell_type": "markdown",
   "metadata": {},
   "source": [
    "## Visualizing the quantization"
   ]
  },
  {
   "cell_type": "code",
   "execution_count": null,
   "metadata": {},
   "outputs": [],
   "source": [
    "# make a chart of a single vector\n",
    "import matplotlib.pyplot as plt\n",
    "\n",
    "vector = movies['Moana']\n",
    "plt.bar(range(len(vector)), vector)\n",
    "plt.xlabel('Dimension')\n",
    "plt.ylabel('Value')\n",
    "plt.show()"
   ]
  },
  {
   "cell_type": "code",
   "execution_count": null,
   "metadata": {},
   "outputs": [],
   "source": [
    "# make a histogram of a single vector\n",
    "plt.hist(movies['Moana'])\n",
    "plt.show()"
   ]
  },
  {
   "cell_type": "code",
   "execution_count": null,
   "metadata": {},
   "outputs": [],
   "source": [
    "# Compare the 1bit and 1byte vectors in a 2d plot\n",
    "plt.scatter(movies_1byte['Moana'], movies['Moana'])\n",
    "plt.xlabel('int8')\n",
    "plt.ylabel('float')\n",
    "plt.title('int8 vs float')\n",
    "plt.show()"
   ]
  },
  {
   "cell_type": "code",
   "execution_count": null,
   "metadata": {},
   "outputs": [],
   "source": [
    "# Compare the 1bit and 1byte vectors in a 2d plot\n",
    "plt.scatter(movies_1bit['Moana'], movies_1byte['Moana'])\n",
    "plt.xlabel('1 bit')\n",
    "plt.ylabel('1 byte')\n",
    "plt.title('1 bit vs 1 byte')\n",
    "plt.show()"
   ]
  },
  {
   "cell_type": "markdown",
   "metadata": {},
   "source": [
    "## Size comparison"
   ]
  },
  {
   "cell_type": "code",
   "execution_count": null,
   "metadata": {},
   "outputs": [],
   "source": [
    "import sys\n",
    "\n",
    "pd.DataFrame({\n",
    "    'float64': [sys.getsizeof(movies['Moana'])],\n",
    "    'int8': [sys.getsizeof(movies_1byte['Moana'])],\n",
    "    'int1': [sys.getsizeof(movies_1bit['Moana'])],\n",
    "})"
   ]
  },
  {
   "cell_type": "code",
   "execution_count": null,
   "metadata": {},
   "outputs": [],
   "source": [
    "sys.getsizeof(movies['Moana'])/sys.getsizeof(movies_1byte['Moana'])"
   ]
  }
 ],
 "metadata": {
  "language_info": {
   "name": "python"
  }
 },
 "nbformat": 4,
 "nbformat_minor": 2
}
