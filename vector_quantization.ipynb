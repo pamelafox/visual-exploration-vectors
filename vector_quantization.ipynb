{
 "cells": [
  {
   "cell_type": "markdown",
   "metadata": {},
   "source": [
    "## Vector quantization\n",
    "\n",
    "Most vector embeddings are stored as floating point numbers (64-bit in Python). We can use **quantization** to reduce the size of the embeddings."
   ]
  },
  {
   "cell_type": "code",
   "execution_count": 13,
   "metadata": {},
   "outputs": [],
   "source": [
    "# Load in the vectors from movies.json, {movie: [vector]}\n",
    "import json\n",
    "\n",
    "with open('openai_movies.json') as f:\n",
    "    movies = json.load(f)"
   ]
  },
  {
   "cell_type": "code",
   "execution_count": 14,
   "metadata": {},
   "outputs": [
    {
     "name": "stdout",
     "output_type": "stream",
     "text": [
      "Snow White and the Seven Dwarfs [124 122 124 ... 128 126 123]\n",
      "Pinocchio [125 125 129 ... 130 127 124]\n",
      "Fantasia [128 125 127 ... 126 127 123]\n",
      "Song of the South [123 123 125 ... 125 127 126]\n",
      "Cinderella [126 123 126 ... 127 126 127]\n",
      "20,000 Leagues Under the Sea [128 124 129 ... 124 126 122]\n",
      "Lady and the Tramp [123 125 126 ... 126 127 123]\n",
      "Sleeping Beauty [125 124 127 ... 130 126 125]\n",
      "101 Dalmatians [126 126 124 ... 126 125 124]\n",
      "The Absent Minded Professor [124 127 127 ... 124 126 123]\n"
     ]
    }
   ],
   "source": [
    "# Quantize all the vectors to 1 byte\n",
    "import numpy as np\n",
    "\n",
    "\n",
    "def quantize_vector(vec):\n",
    "    \"\"\"Turn a float64 into a int8\"\"\"\n",
    "    vec = np.array(vec) + 1\n",
    "    vec = np.clip(vec, 0, 2)\n",
    "    vec = vec * 127\n",
    "    vec = vec.astype(np.uint8)\n",
    "    return vec\n",
    "\n",
    "movies_1byte = {k: quantize_vector(v) for k, v in movies.items()}\n",
    "for k, v in list(movies_1byte.items())[:10]:\n",
    "    print(k, v)"
   ]
  },
  {
   "cell_type": "code",
   "execution_count": 15,
   "metadata": {},
   "outputs": [
    {
     "data": {
      "text/html": [
       "<div>\n",
       "<style scoped>\n",
       "    .dataframe tbody tr th:only-of-type {\n",
       "        vertical-align: middle;\n",
       "    }\n",
       "\n",
       "    .dataframe tbody tr th {\n",
       "        vertical-align: top;\n",
       "    }\n",
       "\n",
       "    .dataframe thead th {\n",
       "        text-align: right;\n",
       "    }\n",
       "</style>\n",
       "<table border=\"1\" class=\"dataframe\">\n",
       "  <thead>\n",
       "    <tr style=\"text-align: right;\">\n",
       "      <th></th>\n",
       "      <th>movie</th>\n",
       "      <th>similarity</th>\n",
       "    </tr>\n",
       "  </thead>\n",
       "  <tbody>\n",
       "    <tr>\n",
       "      <th>0</th>\n",
       "      <td>Moana</td>\n",
       "      <td>1.000000</td>\n",
       "    </tr>\n",
       "    <tr>\n",
       "      <th>1</th>\n",
       "      <td>Mulan</td>\n",
       "      <td>0.999933</td>\n",
       "    </tr>\n",
       "    <tr>\n",
       "      <th>2</th>\n",
       "      <td>The Little Mermaid</td>\n",
       "      <td>0.999914</td>\n",
       "    </tr>\n",
       "    <tr>\n",
       "      <th>3</th>\n",
       "      <td>Pocahontas</td>\n",
       "      <td>0.999905</td>\n",
       "    </tr>\n",
       "    <tr>\n",
       "      <th>4</th>\n",
       "      <td>Aladdin</td>\n",
       "      <td>0.999905</td>\n",
       "    </tr>\n",
       "    <tr>\n",
       "      <th>5</th>\n",
       "      <td>Tangled</td>\n",
       "      <td>0.999904</td>\n",
       "    </tr>\n",
       "    <tr>\n",
       "      <th>6</th>\n",
       "      <td>Hannah Montana the Movie</td>\n",
       "      <td>0.999903</td>\n",
       "    </tr>\n",
       "    <tr>\n",
       "      <th>7</th>\n",
       "      <td>Lilo &amp; Stitch</td>\n",
       "      <td>0.999903</td>\n",
       "    </tr>\n",
       "    <tr>\n",
       "      <th>8</th>\n",
       "      <td>Cinderella</td>\n",
       "      <td>0.999902</td>\n",
       "    </tr>\n",
       "    <tr>\n",
       "      <th>9</th>\n",
       "      <td>Maleficent</td>\n",
       "      <td>0.999900</td>\n",
       "    </tr>\n",
       "  </tbody>\n",
       "</table>\n",
       "</div>"
      ],
      "text/plain": [
       "                      movie  similarity\n",
       "0                     Moana    1.000000\n",
       "1                     Mulan    0.999933\n",
       "2        The Little Mermaid    0.999914\n",
       "3                Pocahontas    0.999905\n",
       "4                   Aladdin    0.999905\n",
       "5                   Tangled    0.999904\n",
       "6  Hannah Montana the Movie    0.999903\n",
       "7             Lilo & Stitch    0.999903\n",
       "8                Cinderella    0.999902\n",
       "9                Maleficent    0.999900"
      ]
     },
     "execution_count": 15,
     "metadata": {},
     "output_type": "execute_result"
    }
   ],
   "source": [
    "# 10 most similar movies to Moana\n",
    "import pandas as pd\n",
    "from sklearn.metrics.pairwise import cosine_similarity\n",
    "\n",
    "def most_similar(movie, movies):\n",
    "    movie_vec = movies[movie]\n",
    "    similarities = {k: cosine_similarity([movie_vec], [v])[0][0] for k, v in movies.items()}\n",
    "    closest = sorted(similarities.items(), key=lambda x: x[1], reverse=True)\n",
    "    df = pd.DataFrame(closest, columns=['movie', 'similarity'])\n",
    "    return df\n",
    "\n",
    "most_similar('Moana', movies_1byte)[:10]"
   ]
  },
  {
   "cell_type": "code",
   "execution_count": 16,
   "metadata": {},
   "outputs": [
    {
     "data": {
      "text/html": [
       "<div>\n",
       "<style scoped>\n",
       "    .dataframe tbody tr th:only-of-type {\n",
       "        vertical-align: middle;\n",
       "    }\n",
       "\n",
       "    .dataframe tbody tr th {\n",
       "        vertical-align: top;\n",
       "    }\n",
       "\n",
       "    .dataframe thead th {\n",
       "        text-align: right;\n",
       "    }\n",
       "</style>\n",
       "<table border=\"1\" class=\"dataframe\">\n",
       "  <thead>\n",
       "    <tr style=\"text-align: right;\">\n",
       "      <th></th>\n",
       "      <th>movie</th>\n",
       "      <th>similarity</th>\n",
       "    </tr>\n",
       "  </thead>\n",
       "  <tbody>\n",
       "    <tr>\n",
       "      <th>0</th>\n",
       "      <td>Moana</td>\n",
       "      <td>1.000000</td>\n",
       "    </tr>\n",
       "    <tr>\n",
       "      <th>1</th>\n",
       "      <td>Mulan</td>\n",
       "      <td>0.905926</td>\n",
       "    </tr>\n",
       "    <tr>\n",
       "      <th>2</th>\n",
       "      <td>The Little Mermaid</td>\n",
       "      <td>0.877542</td>\n",
       "    </tr>\n",
       "    <tr>\n",
       "      <th>3</th>\n",
       "      <td>Aladdin</td>\n",
       "      <td>0.864455</td>\n",
       "    </tr>\n",
       "    <tr>\n",
       "      <th>4</th>\n",
       "      <td>Pocahontas</td>\n",
       "      <td>0.862812</td>\n",
       "    </tr>\n",
       "    <tr>\n",
       "      <th>5</th>\n",
       "      <td>Hannah Montana the Movie</td>\n",
       "      <td>0.860928</td>\n",
       "    </tr>\n",
       "    <tr>\n",
       "      <th>6</th>\n",
       "      <td>Lilo &amp; Stitch</td>\n",
       "      <td>0.858802</td>\n",
       "    </tr>\n",
       "    <tr>\n",
       "      <th>7</th>\n",
       "      <td>Cinderella</td>\n",
       "      <td>0.858162</td>\n",
       "    </tr>\n",
       "    <tr>\n",
       "      <th>8</th>\n",
       "      <td>Tangled</td>\n",
       "      <td>0.858131</td>\n",
       "    </tr>\n",
       "    <tr>\n",
       "      <th>9</th>\n",
       "      <td>Maleficent</td>\n",
       "      <td>0.856232</td>\n",
       "    </tr>\n",
       "  </tbody>\n",
       "</table>\n",
       "</div>"
      ],
      "text/plain": [
       "                      movie  similarity\n",
       "0                     Moana    1.000000\n",
       "1                     Mulan    0.905926\n",
       "2        The Little Mermaid    0.877542\n",
       "3                   Aladdin    0.864455\n",
       "4                Pocahontas    0.862812\n",
       "5  Hannah Montana the Movie    0.860928\n",
       "6             Lilo & Stitch    0.858802\n",
       "7                Cinderella    0.858162\n",
       "8                   Tangled    0.858131\n",
       "9                Maleficent    0.856232"
      ]
     },
     "execution_count": 16,
     "metadata": {},
     "output_type": "execute_result"
    }
   ],
   "source": [
    "most_similar('Moana', movies)[:10]"
   ]
  },
  {
   "cell_type": "markdown",
   "metadata": {},
   "source": [
    "## Binary quantization\n",
    "\n",
    "The most extreme form of quantization is to store the embeddings as binary numbers, setting each dimension to 0 or 1, based on a threshold."
   ]
  },
  {
   "cell_type": "code",
   "execution_count": 17,
   "metadata": {},
   "outputs": [
    {
     "name": "stdout",
     "output_type": "stream",
     "text": [
      "Snow White and the Seven Dwarfs [0 0 0 ... 1 0 0]\n",
      "Pinocchio [0 0 1 ... 1 1 0]\n",
      "Fantasia [1 0 1 ... 0 1 0]\n",
      "Song of the South [0 0 0 ... 0 1 0]\n",
      "Cinderella [0 0 0 ... 1 0 1]\n",
      "20,000 Leagues Under the Sea [1 0 1 ... 0 0 0]\n",
      "Lady and the Tramp [0 0 1 ... 0 1 0]\n",
      "Sleeping Beauty [0 0 1 ... 1 1 0]\n",
      "101 Dalmatians [0 0 0 ... 0 0 0]\n",
      "The Absent Minded Professor [0 1 1 ... 0 0 0]\n"
     ]
    }
   ],
   "source": [
    "def quantize_vector(vec, threshold):\n",
    "    \"\"\"Turn a float32 into a bit by thresholding at 0\"\"\"\n",
    "    vec = np.array(vec)\n",
    "    vec = (vec > threshold).astype(np.int8)\n",
    "    return vec\n",
    "\n",
    "# calculate the mean of all the dimensions of each vector\n",
    "mean_vec = np.mean(np.mean(list(movies.values()), axis=0))\n",
    "\n",
    "movies_1bit = {k: quantize_vector(v, mean_vec) for k, v in movies.items()}\n",
    "for k, v in list(movies_1bit.items())[:10]:\n",
    "    print(k, v)"
   ]
  },
  {
   "cell_type": "code",
   "execution_count": 18,
   "metadata": {},
   "outputs": [
    {
     "data": {
      "text/html": [
       "<div>\n",
       "<style scoped>\n",
       "    .dataframe tbody tr th:only-of-type {\n",
       "        vertical-align: middle;\n",
       "    }\n",
       "\n",
       "    .dataframe tbody tr th {\n",
       "        vertical-align: top;\n",
       "    }\n",
       "\n",
       "    .dataframe thead th {\n",
       "        text-align: right;\n",
       "    }\n",
       "</style>\n",
       "<table border=\"1\" class=\"dataframe\">\n",
       "  <thead>\n",
       "    <tr style=\"text-align: right;\">\n",
       "      <th></th>\n",
       "      <th>movie</th>\n",
       "      <th>similarity</th>\n",
       "    </tr>\n",
       "  </thead>\n",
       "  <tbody>\n",
       "    <tr>\n",
       "      <th>0</th>\n",
       "      <td>Moana</td>\n",
       "      <td>1.000000</td>\n",
       "    </tr>\n",
       "    <tr>\n",
       "      <th>1</th>\n",
       "      <td>Mulan</td>\n",
       "      <td>0.797453</td>\n",
       "    </tr>\n",
       "    <tr>\n",
       "      <th>2</th>\n",
       "      <td>Lilo &amp; Stitch</td>\n",
       "      <td>0.766315</td>\n",
       "    </tr>\n",
       "    <tr>\n",
       "      <th>3</th>\n",
       "      <td>The Little Mermaid</td>\n",
       "      <td>0.762547</td>\n",
       "    </tr>\n",
       "    <tr>\n",
       "      <th>4</th>\n",
       "      <td>Hannah Montana the Movie</td>\n",
       "      <td>0.761729</td>\n",
       "    </tr>\n",
       "    <tr>\n",
       "      <th>5</th>\n",
       "      <td>Pocahontas</td>\n",
       "      <td>0.754125</td>\n",
       "    </tr>\n",
       "    <tr>\n",
       "      <th>6</th>\n",
       "      <td>Big Hero 6</td>\n",
       "      <td>0.754006</td>\n",
       "    </tr>\n",
       "    <tr>\n",
       "      <th>7</th>\n",
       "      <td>Disney Planes</td>\n",
       "      <td>0.746025</td>\n",
       "    </tr>\n",
       "    <tr>\n",
       "      <th>8</th>\n",
       "      <td>Tangled</td>\n",
       "      <td>0.745110</td>\n",
       "    </tr>\n",
       "    <tr>\n",
       "      <th>9</th>\n",
       "      <td>Finding Nemo</td>\n",
       "      <td>0.742330</td>\n",
       "    </tr>\n",
       "  </tbody>\n",
       "</table>\n",
       "</div>"
      ],
      "text/plain": [
       "                      movie  similarity\n",
       "0                     Moana    1.000000\n",
       "1                     Mulan    0.797453\n",
       "2             Lilo & Stitch    0.766315\n",
       "3        The Little Mermaid    0.762547\n",
       "4  Hannah Montana the Movie    0.761729\n",
       "5                Pocahontas    0.754125\n",
       "6                Big Hero 6    0.754006\n",
       "7             Disney Planes    0.746025\n",
       "8                   Tangled    0.745110\n",
       "9              Finding Nemo    0.742330"
      ]
     },
     "execution_count": 18,
     "metadata": {},
     "output_type": "execute_result"
    }
   ],
   "source": [
    "most_similar('Moana', movies_1bit)[:10]"
   ]
  },
  {
   "cell_type": "markdown",
   "metadata": {},
   "source": [
    "## Visualizing the quantization"
   ]
  },
  {
   "cell_type": "code",
   "execution_count": 19,
   "metadata": {},
   "outputs": [
    {
     "data": {
      "image/png": "[encoded data removed]",
      "text/plain": [
       "<Figure size 640x480 with 1 Axes>"
      ]
     },
     "metadata": {},
     "output_type": "display_data"
    }
   ],
   "source": [
    "# make a chart of a single vector\n",
    "import matplotlib.pyplot as plt\n",
    "\n",
    "vector = movies['Moana']\n",
    "plt.bar(range(len(vector)), vector)\n",
    "plt.xlabel('Dimension')\n",
    "plt.ylabel('Value')\n",
    "plt.show()"
   ]
  },
  {
   "cell_type": "code",
   "execution_count": 20,
   "metadata": {},
   "outputs": [
    {
     "data": {
      "image/png": "[encoded data removed]",
      "text/plain": [
       "<Figure size 640x480 with 1 Axes>"
      ]
     },
     "metadata": {},
     "output_type": "display_data"
    }
   ],
   "source": [
    "# make a histogram of a single vector\n",
    "plt.hist(movies['Moana'])\n",
    "plt.show()"
   ]
  },
  {
   "cell_type": "code",
   "execution_count": 21,
   "metadata": {},
   "outputs": [
    {
     "data": {
      "image/png": "[encoded data removed]",
      "text/plain": [
       "<Figure size 640x480 with 1 Axes>"
      ]
     },
     "metadata": {},
     "output_type": "display_data"
    }
   ],
   "source": [
    "# Compare the 1bit and 1byte vectors in a 2d plot\n",
    "plt.scatter(movies_1byte['Moana'], movies['Moana'])\n",
    "plt.xlabel('int8')\n",
    "plt.ylabel('float')\n",
    "plt.title('int8 vs float')\n",
    "plt.show()"
   ]
  },
  {
   "cell_type": "code",
   "execution_count": 22,
   "metadata": {},
   "outputs": [
    {
     "data": {
      "image/png": "[encoded data removed]",
      "text/plain": [
       "<Figure size 640x480 with 1 Axes>"
      ]
     },
     "metadata": {},
     "output_type": "display_data"
    }
   ],
   "source": [
    "# Compare the 1bit and 1byte vectors in a 2d plot\n",
    "plt.scatter(movies_1bit['Moana'], movies_1byte['Moana'])\n",
    "plt.xlabel('1 bit')\n",
    "plt.ylabel('1 byte')\n",
    "plt.title('1 bit vs 1 byte')\n",
    "plt.show()"
   ]
  },
  {
   "cell_type": "markdown",
   "metadata": {},
   "source": [
    "## Size comparison"
   ]
  },
  {
   "cell_type": "code",
   "execution_count": 23,
   "metadata": {},
   "outputs": [
    {
     "data": {
      "text/html": [
       "<div>\n",
       "<style scoped>\n",
       "    .dataframe tbody tr th:only-of-type {\n",
       "        vertical-align: middle;\n",
       "    }\n",
       "\n",
       "    .dataframe tbody tr th {\n",
       "        vertical-align: top;\n",
       "    }\n",
       "\n",
       "    .dataframe thead th {\n",
       "        text-align: right;\n",
       "    }\n",
       "</style>\n",
       "<table border=\"1\" class=\"dataframe\">\n",
       "  <thead>\n",
       "    <tr style=\"text-align: right;\">\n",
       "      <th></th>\n",
       "      <th>float64</th>\n",
       "      <th>int8</th>\n",
       "      <th>int1</th>\n",
       "    </tr>\n",
       "  </thead>\n",
       "  <tbody>\n",
       "    <tr>\n",
       "      <th>0</th>\n",
       "      <td>12728</td>\n",
       "      <td>1648</td>\n",
       "      <td>1648</td>\n",
       "    </tr>\n",
       "  </tbody>\n",
       "</table>\n",
       "</div>"
      ],
      "text/plain": [
       "   float64  int8  int1\n",
       "0    12728  1648  1648"
      ]
     },
     "execution_count": 23,
     "metadata": {},
     "output_type": "execute_result"
    }
   ],
   "source": [
    "import sys\n",
    "\n",
    "pd.DataFrame({\n",
    "    'float64': [sys.getsizeof(movies['Moana'])],\n",
    "    'int8': [sys.getsizeof(movies_1byte['Moana'])],\n",
    "    'int1': [sys.getsizeof(movies_1bit['Moana'])],\n",
    "})"
   ]
  },
  {
   "cell_type": "code",
   "execution_count": 24,
   "metadata": {},
   "outputs": [
    {
     "data": {
      "text/plain": [
       "7.723300970873787"
      ]
     },
     "execution_count": 24,
     "metadata": {},
     "output_type": "execute_result"
    }
   ],
   "source": [
    "sys.getsizeof(movies['Moana'])/sys.getsizeof(movies_1byte['Moana'])"
   ]
  },
  {
   "cell_type": "markdown",
   "metadata": {},
   "source": [
    "## Resources\n",
    "\n",
    "* [Scalar quantization 101](https://www.elastic.co/search-labs/blog/scalar-quantization-101)\n",
    "* [Product quantization 101](https://www.pinecone.io/learn/series/faiss/product-quantization/)\n",
    "* [Binary and scalar quantization](https://huggingface.co/blog/embedding-quantization)"
   ]
  }
 ],
 "metadata": {
  "language_info": {
   "name": "python"
  }
 },
 "nbformat": 4,
 "nbformat_minor": 2
}
